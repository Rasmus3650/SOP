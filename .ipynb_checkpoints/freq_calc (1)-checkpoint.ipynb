{
 "cells": [
  {
   "cell_type": "code",
   "execution_count": 26,
   "metadata": {},
   "outputs": [],
   "source": [
    "import pandas as pd\n",
    "import matplotlib.pyplot as plt\n",
    "import numpy as np"
   ]
  },
  {
   "cell_type": "code",
   "execution_count": 37,
   "metadata": {},
   "outputs": [],
   "source": [
    "def calc_freq(text):\n",
    "\n",
    "    text_count, text_freq = {'A':0, 'B':0, 'C':0, 'D':0, 'E':0}, {'A':0, 'B':0, 'C':0, 'D':0, 'E':0}\n",
    "\n",
    "    for i in text_ex:\n",
    "        text_count[i.upper()] += 1\n",
    "\n",
    "    for i in text_count:\n",
    "        text_freq[i] = text_count[i] / len(text_ex)\n",
    "        \n",
    "    return text_freq"
   ]
  },
  {
   "cell_type": "code",
   "execution_count": null,
   "metadata": {},
   "outputs": [],
   "source": [
    "org_text = 'aaBcDbbcaa'\n",
    "caesar_text = encrypt(org_text)\n",
    "#sliding_caesar_text = encrypt(org_text)"
   ]
  },
  {
   "cell_type": "code",
   "execution_count": null,
   "metadata": {},
   "outputs": [],
   "source": [
    "text_freq1 = calc_freq(org_text)\n",
    "text_freq2 = calc_freq()"
   ]
  },
  {
   "cell_type": "code",
   "execution_count": 46,
   "metadata": {},
   "outputs": [
    {
     "data": {
      "text/plain": [
       "<Figure size 360x432 with 0 Axes>"
      ]
     },
     "metadata": {},
     "output_type": "display_data"
    },
    {
     "data": {
      "image/png": "[encoded data removed]",
      "text/plain": [
       "<Figure size 1080x360 with 1 Axes>"
      ]
     },
     "metadata": {
      "needs_background": "light"
     },
     "output_type": "display_data"
    }
   ],
   "source": [
    "x = np.arange(len(text_freq.keys()))\n",
    "bar_width = 0.4\n",
    "\n",
    "plt.figure(figsize=(5,6))\n",
    "plt.figure(figsize=(15,5))\n",
    "plt.bar(x, text_freq.values(), width=bar_width, color='g', alpha=1)\n",
    "plt.bar(x + bar_width, text_freq2.values(), width=bar_width, color='r', alpha=1)\n",
    "plt.ylabel('Frekvens (%)', fontsize = 16)\n",
    "plt.xticks(x + bar_width / 2, text_freq.keys(), fontsize = 16)\n",
    "\n",
    "plt.show()"
   ]
  },
  {
   "cell_type": "code",
   "execution_count": null,
   "metadata": {},
   "outputs": [],
   "source": []
  }
 ],
 "metadata": {
  "kernelspec": {
   "display_name": "Python 3",
   "language": "python",
   "name": "python3"
  },
  "language_info": {
   "codemirror_mode": {
    "name": "ipython",
    "version": 3
   },
   "file_extension": ".py",
   "mimetype": "text/x-python",
   "name": "python",
   "nbconvert_exporter": "python",
   "pygments_lexer": "ipython3",
   "version": "3.7.0"
  }
 },
 "nbformat": 4,
 "nbformat_minor": 4
}
